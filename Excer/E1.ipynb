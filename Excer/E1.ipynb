{
 "cells": [
  {
   "cell_type": "code",
   "execution_count": 2,
   "metadata": {},
   "outputs": [
    {
     "data": {
      "text/plain": [
       "9765625"
      ]
     },
     "execution_count": 2,
     "metadata": {},
     "output_type": "execute_result"
    }
   ],
   "source": [
    "# E1 1. Write a Python program that declares two variables, \"x\" and \"y\", and assigns them values of 5 and 3, respectively. Then, using math operations, print out the result of \"x\" raised to the power of \"y\".\n",
    "x,y = 5,10\n",
    "x**y"
   ]
  },
  {
   "cell_type": "code",
   "execution_count": 4,
   "metadata": {},
   "outputs": [
    {
     "data": {
      "text/plain": [
       "'gnirts a fo esrever'"
      ]
     },
     "execution_count": 4,
     "metadata": {},
     "output_type": "execute_result"
    }
   ],
   "source": [
    "#e2:\n",
    "#reverse of a string\n",
    "\n",
    "str1 = \"reverse of a string\"\n",
    "str1[::-1]"
   ]
  },
  {
   "cell_type": "code",
   "execution_count": 6,
   "metadata": {},
   "outputs": [
    {
     "data": {
      "text/plain": [
       "'Reverse Of A String'"
      ]
     },
     "execution_count": 6,
     "metadata": {},
     "output_type": "execute_result"
    }
   ],
   "source": [
    "#e3\n",
    "#Capitalize first letter in each word of a given string.\n",
    "str1 = \"reverse of a string\"\n",
    "split_string = str1.split()\n",
    "new_string=[]\n",
    "for i in split_string:\n",
    "    new_string.append(i.capitalize())\n",
    "\n",
    "\" \".join(new_string)"
   ]
  },
  {
   "cell_type": "code",
   "execution_count": 7,
   "metadata": {},
   "outputs": [
    {
     "data": {
      "text/plain": [
       "'Reverse Of A String'"
      ]
     },
     "execution_count": 7,
     "metadata": {},
     "output_type": "execute_result"
    }
   ],
   "source": [
    "str1 = \"reverse of a string\"\n",
    "str1.title()"
   ]
  },
  {
   "cell_type": "code",
   "execution_count": 1,
   "metadata": {},
   "outputs": [
    {
     "name": "stdout",
     "output_type": "stream",
     "text": [
      "pizza\n",
      "sushi\n",
      "tacos\n",
      "ice cream\n"
     ]
    }
   ],
   "source": [
    "#E4\n",
    "list1 = ['pizza', 'sushi', 'tacos', 'ice cream']\n",
    "for food in list1:\n",
    "    print(food)\n",
    "    "
   ]
  },
  {
   "cell_type": "code",
   "execution_count": null,
   "metadata": {},
   "outputs": [],
   "source": [
    "#e5\n",
    "list1 = ['pizza', 'sushi', 'tacos', 'ice cream',1,2,3,4]\n",
    "for value in list1:\n",
    "    print(value)\n",
    "    \n"
   ]
  },
  {
   "cell_type": "code",
   "execution_count": null,
   "metadata": {},
   "outputs": [],
   "source": [
    "#E6\n",
    "i = list(range(1,10))\n",
    "\n",
    "i[4:5] # 5th position index is 4"
   ]
  },
  {
   "cell_type": "code",
   "execution_count": 3,
   "metadata": {},
   "outputs": [
    {
     "data": {
      "text/plain": [
       "'wednesday'"
      ]
     },
     "execution_count": 3,
     "metadata": {},
     "output_type": "execute_result"
    }
   ],
   "source": [
    "#E7\n",
    "a = ('Monday','Tuesday','wednesday','thur','fri','sat','sunday')\n",
    "a[2]"
   ]
  },
  {
   "cell_type": "code",
   "execution_count": 4,
   "metadata": {},
   "outputs": [
    {
     "name": "stdout",
     "output_type": "stream",
     "text": [
      "1 2 tuple\n"
     ]
    }
   ],
   "source": [
    "#e8Create a tuple containing the values 1, 2, and 3. Unpack the tuple into three variables, and then print the variables\n",
    "\n",
    "a = (1,2,\"tuple\")\n",
    "x,y,z = a\n",
    "print(x,y,z)"
   ]
  }
 ],
 "metadata": {
  "kernelspec": {
   "display_name": "Python 3",
   "language": "python",
   "name": "python3"
  },
  "language_info": {
   "codemirror_mode": {
    "name": "ipython",
    "version": 3
   },
   "file_extension": ".py",
   "mimetype": "text/x-python",
   "name": "python",
   "nbconvert_exporter": "python",
   "pygments_lexer": "ipython3",
   "version": "3.11.3"
  },
  "orig_nbformat": 4
 },
 "nbformat": 4,
 "nbformat_minor": 2
}
