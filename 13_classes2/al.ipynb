{
 "cells": [
  {
   "cell_type": "code",
   "execution_count": 3,
   "metadata": {},
   "outputs": [],
   "source": [
    "a = list([1,2,3,4,5])\n"
   ]
  },
  {
   "cell_type": "code",
   "execution_count": 4,
   "metadata": {},
   "outputs": [
    {
     "name": "stdout",
     "output_type": "stream",
     "text": [
      "b\n",
      "a\n",
      "n\n",
      "a\n",
      "n\n",
      "a\n"
     ]
    }
   ],
   "source": [
    "l1 = \"banana\"\n",
    "myit = iter(l1)\n",
    "\n",
    "print(next(myit))\n",
    "print(next(myit))\n",
    "print(next(myit))\n",
    "print(next(myit))\n",
    "print(next(myit))\n",
    "print(next(myit))"
   ]
  },
  {
   "attachments": {},
   "cell_type": "markdown",
   "metadata": {},
   "source": [
    "The context manager object results from evaluating the expression after with. In other words, expression must return an object that implements the context management protocol. This protocol consists of two special methods:\n",
    "\n",
    "    .__enter__() is called by the with statement to enter the runtime context.\n",
    "    .__exit__() is called when the execution leaves the with code block.\n"
   ]
  },
  {
   "cell_type": "code",
   "execution_count": 2,
   "metadata": {},
   "outputs": [],
   "source": [
    "a = list([1,2,3])"
   ]
  },
  {
   "cell_type": "code",
   "execution_count": 3,
   "metadata": {},
   "outputs": [
    {
     "data": {
      "text/plain": [
       "list"
      ]
     },
     "execution_count": 3,
     "metadata": {},
     "output_type": "execute_result"
    }
   ],
   "source": [
    "type(a)"
   ]
  },
  {
   "cell_type": "code",
   "execution_count": 4,
   "metadata": {},
   "outputs": [
    {
     "data": {
      "text/plain": [
       "__main__.Code1"
      ]
     },
     "execution_count": 4,
     "metadata": {},
     "output_type": "execute_result"
    }
   ],
   "source": [
    "class Code1():\n",
    "    def __init__(self):\n",
    "        pass\n",
    "    \n",
    "a = Code1()\n",
    "type(a)"
   ]
  },
  {
   "cell_type": "code",
   "execution_count": 14,
   "metadata": {},
   "outputs": [
    {
     "name": "stdout",
     "output_type": "stream",
     "text": [
      "code1 getting executed\n"
     ]
    },
    {
     "data": {
      "text/plain": [
       "'it is of code1'"
      ]
     },
     "execution_count": 14,
     "metadata": {},
     "output_type": "execute_result"
    }
   ],
   "source": [
    "class Code1():\n",
    "    def __init__(self):\n",
    "        print(\"code1 getting executed\")\n",
    "        \n",
    "    def __str__(self):\n",
    "        return \"it is of code1\"\n",
    "    \n",
    "a = Code1()\n",
    "str(a)\n",
    "\n",
    "# __str__\n",
    "# __main__"
   ]
  },
  {
   "cell_type": "code",
   "execution_count": 15,
   "metadata": {},
   "outputs": [
    {
     "name": "stdout",
     "output_type": "stream",
     "text": [
      "b\n",
      "a\n",
      "n\n",
      "a\n",
      "n\n",
      "a\n"
     ]
    }
   ],
   "source": [
    "l1 = \"banana\"\n",
    "for i in l1:\n",
    "    print(i)\n",
    "    "
   ]
  },
  {
   "cell_type": "code",
   "execution_count": 17,
   "metadata": {},
   "outputs": [
    {
     "name": "stdout",
     "output_type": "stream",
     "text": [
      "b\n",
      "a\n",
      "n\n",
      "a\n",
      "n\n",
      "a\n"
     ]
    },
    {
     "ename": "StopIteration",
     "evalue": "",
     "output_type": "error",
     "traceback": [
      "\u001b[1;31m---------------------------------------------------------------------------\u001b[0m",
      "\u001b[1;31mStopIteration\u001b[0m                             Traceback (most recent call last)",
      "Cell \u001b[1;32mIn[17], line 10\u001b[0m\n\u001b[0;32m      8\u001b[0m \u001b[39mprint\u001b[39m(\u001b[39mnext\u001b[39m(myit))\n\u001b[0;32m      9\u001b[0m \u001b[39mprint\u001b[39m(\u001b[39mnext\u001b[39m(myit))\n\u001b[1;32m---> 10\u001b[0m \u001b[39mprint\u001b[39m(\u001b[39mnext\u001b[39;49m(myit))\n",
      "\u001b[1;31mStopIteration\u001b[0m: "
     ]
    }
   ],
   "source": [
    "l1 = \"banana\"\n",
    "myit = iter(l1)\n",
    "\n",
    "print(next(myit))\n",
    "print(next(myit))\n",
    "print(next(myit))\n",
    "print(next(myit))\n",
    "print(next(myit))\n",
    "print(next(myit))\n",
    "print(next(myit))"
   ]
  },
  {
   "cell_type": "code",
   "execution_count": 22,
   "metadata": {},
   "outputs": [
    {
     "name": "stdout",
     "output_type": "stream",
     "text": [
      "[1, 2, 3]\n"
     ]
    }
   ],
   "source": [
    "class Iterator_class():\n",
    "    def __init__(self):\n",
    "        pass\n",
    "    \n",
    "    def __iter__(self):\n",
    "        yield [1,2,3]\n",
    "    \n",
    "    def __enter__():\n",
    "        \n",
    "a = Iterator_class()\n",
    "for i in a:\n",
    "    print(i)"
   ]
  },
  {
   "cell_type": "code",
   "execution_count": null,
   "metadata": {},
   "outputs": [],
   "source": [
    "with open('filename','w') as fp:\n",
    "    fp.readlines()\n",
    "    \n",
    "fp =  open('filename','w')\n",
    "fp.close()"
   ]
  },
  {
   "cell_type": "code",
   "execution_count": null,
   "metadata": {},
   "outputs": [],
   "source": [
    "__enter__\n",
    "__exit__"
   ]
  },
  {
   "cell_type": "code",
   "execution_count": 27,
   "metadata": {},
   "outputs": [
    {
     "ename": "IndexError",
     "evalue": "list index out of range",
     "output_type": "error",
     "traceback": [
      "\u001b[1;31m---------------------------------------------------------------------------\u001b[0m",
      "\u001b[1;31mIndexError\u001b[0m                                Traceback (most recent call last)",
      "Cell \u001b[1;32mIn[27], line 2\u001b[0m\n\u001b[0;32m      1\u001b[0m x \u001b[39m=\u001b[39m [\u001b[39m1\u001b[39m,\u001b[39m2\u001b[39m,\u001b[39m3\u001b[39m]\n\u001b[1;32m----> 2\u001b[0m x[\u001b[39m4\u001b[39;49m]\n",
      "\u001b[1;31mIndexError\u001b[0m: list index out of range"
     ]
    }
   ],
   "source": [
    "x = [1,2,3]\n",
    "x[4]"
   ]
  },
  {
   "cell_type": "code",
   "execution_count": 36,
   "metadata": {},
   "outputs": [
    {
     "name": "stdout",
     "output_type": "stream",
     "text": [
      "arithematci Error occured\n"
     ]
    }
   ],
   "source": [
    "try:\n",
    "    a =10\n",
    "    b = 0\n",
    "    c = a/b\n",
    "    x = [1,2,3]\n",
    "    x[4]\n",
    "\n",
    "except IndexError as e:\n",
    "    print(\"Exception occured in index \")\n",
    "\n",
    "except ArithmeticError as e:\n",
    "    print(\"arithematci Error occured\")\n",
    "    \n",
    "except ZeroDivisionError as e:\n",
    "    print(\"Error occured\")\n",
    "    \n",
    "\n",
    "\n",
    "\n",
    "\n",
    "except Exception as e:\n",
    "    print(\"Exception occured in base Exception \")\n",
    "   \n"
   ]
  },
  {
   "cell_type": "code",
   "execution_count": null,
   "metadata": {},
   "outputs": [],
   "source": [
    "try:\n",
    "    pass\n",
    "    #statement where exception could occur.\n",
    "\n",
    "except:\n",
    "    #handling exception.\n",
    "    pass\n",
    "\n",
    "except:\n",
    "    \n",
    "    #handling excepiot.\n",
    "    pass\n",
    "\n",
    "finally:\n",
    "    pass\n",
    "\n",
    "raise\n"
   ]
  },
  {
   "cell_type": "code",
   "execution_count": null,
   "metadata": {},
   "outputs": [],
   "source": [
    "try:\n",
    "    a =10\n",
    "    b = 0\n",
    "    c = a/b\n",
    "    x = [1,2,3]\n",
    "    x[4]\n",
    "\n",
    "except IndexError as e:\n",
    "    print(\"Exception occured in index \")\n",
    "\n",
    "except ArithmeticError as e:\n",
    "    print(\"arithematci Error occured\")\n",
    "    \n",
    "except ZeroDivisionError as e:\n",
    "    print(\"Error occured\")\n",
    "    \n",
    "\n",
    "\n",
    "\n",
    "\n",
    "except Exception as e:\n",
    "    print(\"Exception occured in base Exception \")\n",
    "   "
   ]
  },
  {
   "cell_type": "code",
   "execution_count": 46,
   "metadata": {},
   "outputs": [
    {
     "data": {
      "text/plain": [
       "1000"
      ]
     },
     "execution_count": 46,
     "metadata": {},
     "output_type": "execute_result"
    }
   ],
   "source": [
    "class MinBalanceException(BaseException):\n",
    "    pass\n",
    "\n",
    "class Account():\n",
    "    def __init__(self,balance):\n",
    "        self.balance = balance\n",
    "    \n",
    "    def withdraw(self,amount):\n",
    "        try:\n",
    "            # a = 10\n",
    "            # b = 0\n",
    "            # c = a/b\n",
    "            if self.balance-amount <0:\n",
    "                raise MinBalanceException\n",
    "            \n",
    "            self.balance = self.balance-amount\n",
    "        \n",
    "        except ZeroDivisionError as e:\n",
    "            print(\"ZeroDivisionError has occured.\")\n",
    "        \n",
    "        except MinBalanceException as e:\n",
    "            print(\"Minimum balance should be more than 0\")\n",
    "        except Exception as e:\n",
    "            print(\"Exception has occured.\")\n",
    "\n",
    "a = Account(10000)\n",
    "a.withdraw(9000)\n",
    "a.balance"
   ]
  }
 ],
 "metadata": {
  "kernelspec": {
   "display_name": "Python 3",
   "language": "python",
   "name": "python3"
  },
  "language_info": {
   "codemirror_mode": {
    "name": "ipython",
    "version": 3
   },
   "file_extension": ".py",
   "mimetype": "text/x-python",
   "name": "python",
   "nbconvert_exporter": "python",
   "pygments_lexer": "ipython3",
   "version": "3.11.3"
  },
  "orig_nbformat": 4
 },
 "nbformat": 4,
 "nbformat_minor": 2
}
