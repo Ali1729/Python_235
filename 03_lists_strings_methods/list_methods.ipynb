{
 "cells": [
  {
   "cell_type": "code",
   "execution_count": null,
   "metadata": {},
   "outputs": [],
   "source": []
  },
  {
   "attachments": {},
   "cell_type": "markdown",
   "metadata": {},
   "source": [
    "    L * 3\n",
    "    for x in L: print(x)\n",
    "    3 in L\n",
    "    Iteration, membership\n",
    "    L.append(4)\n",
    "    L.insert(i, X)\n",
    "    L.extend([5,6,7])\n",
    "    Methods: growing\n",
    "    L.index(X)\n",
    "    L.count(X)\n",
    "    Methods: searching\n",
    "    L.sort()\n",
    "    L.reverse()\n",
    "    L.copy()\n",
    "    L.clear()\n",
    "    Methods: sorting, reversing,\n",
    "    copying (3.3+), clearing (3.3+)\n",
    "    L.pop(i)\n",
    "    L.remove(X)\n",
    "    del L[i]\n",
    "    del L[i:j]\n",
    "    L[i:j] = []\n",
    "    Methods, statements: shrinking\n",
    "    L[i] = 3\n",
    "    L[i:j] = [4,5,6]\n",
    "    Index assignment, slice assignment\n",
    "    L = [x**2 for x in range(5)]\n",
    "    list(map(ord, 'spam'))\n"
   ]
  },
  {
   "cell_type": "code",
   "execution_count": null,
   "metadata": {},
   "outputs": [],
   "source": [
    "l = [1,2,3,4,5,6,7,8]\n"
   ]
  },
  {
   "cell_type": "code",
   "execution_count": null,
   "metadata": {},
   "outputs": [],
   "source": []
  }
 ],
 "metadata": {
  "language_info": {
   "name": "python"
  },
  "orig_nbformat": 4
 },
 "nbformat": 4,
 "nbformat_minor": 2
}
