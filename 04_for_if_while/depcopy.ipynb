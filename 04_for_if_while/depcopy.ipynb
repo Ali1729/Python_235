{
 "cells": [
  {
   "cell_type": "code",
   "execution_count": 3,
   "metadata": {},
   "outputs": [
    {
     "data": {
      "text/plain": [
       "140722229142600"
      ]
     },
     "execution_count": 3,
     "metadata": {},
     "output_type": "execute_result"
    },
    {
     "data": {
      "text/plain": [
       "140722229142600"
      ]
     },
     "execution_count": 3,
     "metadata": {},
     "output_type": "execute_result"
    },
    {
     "data": {
      "text/plain": [
       "10"
      ]
     },
     "execution_count": 3,
     "metadata": {},
     "output_type": "execute_result"
    },
    {
     "data": {
      "text/plain": [
       "140722229143080"
      ]
     },
     "execution_count": 3,
     "metadata": {},
     "output_type": "execute_result"
    }
   ],
   "source": [
    "a = 10 \n",
    "b = a\n",
    "id(a)\n",
    "id(b)\n",
    "\n",
    "b += 15\n",
    "a\n",
    "id(b)"
   ]
  },
  {
   "cell_type": "code",
   "execution_count": 6,
   "metadata": {},
   "outputs": [
    {
     "data": {
      "text/plain": [
       "2129487994880"
      ]
     },
     "execution_count": 6,
     "metadata": {},
     "output_type": "execute_result"
    },
    {
     "data": {
      "text/plain": [
       "2129487994880"
      ]
     },
     "execution_count": 6,
     "metadata": {},
     "output_type": "execute_result"
    },
    {
     "data": {
      "text/plain": [
       "[1, 2, 100, 4]"
      ]
     },
     "execution_count": 6,
     "metadata": {},
     "output_type": "execute_result"
    },
    {
     "data": {
      "text/plain": [
       "2129487994880"
      ]
     },
     "execution_count": 6,
     "metadata": {},
     "output_type": "execute_result"
    },
    {
     "data": {
      "text/plain": [
       "2129487994880"
      ]
     },
     "execution_count": 6,
     "metadata": {},
     "output_type": "execute_result"
    }
   ],
   "source": [
    "a = [1,2,3,4]\n",
    "b = a\n",
    "id(a)\n",
    "id(b)\n",
    "b[2] =100\n",
    "a\n",
    "\n",
    "id(a)\n",
    "id(b)"
   ]
  },
  {
   "cell_type": "code",
   "execution_count": 8,
   "metadata": {},
   "outputs": [
    {
     "data": {
      "text/plain": [
       "2129482985600"
      ]
     },
     "execution_count": 8,
     "metadata": {},
     "output_type": "execute_result"
    },
    {
     "data": {
      "text/plain": [
       "2129487837888"
      ]
     },
     "execution_count": 8,
     "metadata": {},
     "output_type": "execute_result"
    },
    {
     "data": {
      "text/plain": [
       "[1, 2, 3, 4]"
      ]
     },
     "execution_count": 8,
     "metadata": {},
     "output_type": "execute_result"
    },
    {
     "data": {
      "text/plain": [
       "2129482985600"
      ]
     },
     "execution_count": 8,
     "metadata": {},
     "output_type": "execute_result"
    },
    {
     "data": {
      "text/plain": [
       "2129487837888"
      ]
     },
     "execution_count": 8,
     "metadata": {},
     "output_type": "execute_result"
    }
   ],
   "source": [
    "a = [1,2,3,4]\n",
    "b = a[:]\n",
    "id(a)\n",
    "id(b)\n",
    "\n",
    "b[2] =100\n",
    "a\n",
    "\n",
    "id(a)\n",
    "id(b)"
   ]
  },
  {
   "cell_type": "code",
   "execution_count": 9,
   "metadata": {},
   "outputs": [
    {
     "data": {
      "text/plain": [
       "[1, 2, 100, 4]"
      ]
     },
     "execution_count": 9,
     "metadata": {},
     "output_type": "execute_result"
    }
   ],
   "source": [
    "b"
   ]
  },
  {
   "cell_type": "code",
   "execution_count": 11,
   "metadata": {},
   "outputs": [
    {
     "data": {
      "text/plain": [
       "2129482807488"
      ]
     },
     "execution_count": 11,
     "metadata": {},
     "output_type": "execute_result"
    },
    {
     "data": {
      "text/plain": [
       "2129482852160"
      ]
     },
     "execution_count": 11,
     "metadata": {},
     "output_type": "execute_result"
    },
    {
     "data": {
      "text/plain": [
       "[1, 2, 3, 4, [5, 6, 7]]"
      ]
     },
     "execution_count": 11,
     "metadata": {},
     "output_type": "execute_result"
    }
   ],
   "source": [
    "a = [1,2,3,4,[5,6,7]]\n",
    "b = a[:]\n",
    "id(a)\n",
    "id(b)\n",
    "b[1] = 100\n",
    "a"
   ]
  },
  {
   "cell_type": "code",
   "execution_count": 12,
   "metadata": {},
   "outputs": [
    {
     "data": {
      "text/plain": [
       "2129482984896"
      ]
     },
     "execution_count": 12,
     "metadata": {},
     "output_type": "execute_result"
    },
    {
     "data": {
      "text/plain": [
       "2129487734144"
      ]
     },
     "execution_count": 12,
     "metadata": {},
     "output_type": "execute_result"
    },
    {
     "data": {
      "text/plain": [
       "[1, 2, 3, 4, [100, 6, 7]]"
      ]
     },
     "execution_count": 12,
     "metadata": {},
     "output_type": "execute_result"
    }
   ],
   "source": [
    "a = [1,2,3,4,[5,6,7]]\n",
    "b = a[:]\n",
    "id(a)\n",
    "id(b)\n",
    "b[4][0] = 100\n",
    "a"
   ]
  },
  {
   "cell_type": "code",
   "execution_count": 19,
   "metadata": {},
   "outputs": [
    {
     "data": {
      "text/plain": [
       "[19846546, 254587, 3987654, 4959846, [598494, 6989, 7989]]"
      ]
     },
     "execution_count": 19,
     "metadata": {},
     "output_type": "execute_result"
    }
   ],
   "source": [
    "from copy import deepcopy\n",
    "a = [19846546,254587,3987654,4959846,[598494,6989,7989]]\n",
    "# b= a[:]\n",
    "# b[4] = a[4][:]\n",
    "b = deepcopy(a)\n",
    "b[4][0] = 100\n",
    "\n",
    "a\n"
   ]
  },
  {
   "cell_type": "code",
   "execution_count": null,
   "metadata": {},
   "outputs": [],
   "source": [
    "a = 10\n",
    "\n",
    "if a ==10:\n",
    "    print(\"value of a is 10\")\n",
    "    \n",
    "if condition:\n",
    "    statements;\n",
    "    \n",
    "elsif condition:\n",
    "    statements\n",
    "\n",
    "elsif condition:\n",
    "    statements\n",
    "    \n",
    "else:\n",
    "    statements."
   ]
  },
  {
   "cell_type": "code",
   "execution_count": 20,
   "metadata": {},
   "outputs": [
    {
     "data": {
      "text/plain": [
       "False"
      ]
     },
     "execution_count": 20,
     "metadata": {},
     "output_type": "execute_result"
    },
    {
     "data": {
      "text/plain": [
       "True"
      ]
     },
     "execution_count": 20,
     "metadata": {},
     "output_type": "execute_result"
    }
   ],
   "source": [
    "a ==10\n",
    "\n",
    "1 in [1,2,3,4]"
   ]
  },
  {
   "cell_type": "code",
   "execution_count": null,
   "metadata": {},
   "outputs": [],
   "source": [
    "if a >10:\n",
    "    if a < 100:\n",
    "        print(\"a is more tjan 10 and less than 100\")\n",
    "    elif a<90:\n",
    "        print(\"a is more tjan 10 and less than 90\")\n",
    "        "
   ]
  },
  {
   "cell_type": "code",
   "execution_count": null,
   "metadata": {},
   "outputs": [],
   "source": [
    "for value in iterable:\n",
    "    statements\n",
    "    "
   ]
  },
  {
   "cell_type": "code",
   "execution_count": 22,
   "metadata": {},
   "outputs": [
    {
     "name": "stdout",
     "output_type": "stream",
     "text": [
      "1\n",
      "2\n",
      "3\n",
      "4\n"
     ]
    }
   ],
   "source": [
    "a = (1,2,3,4)\n",
    "\n",
    "for i in a:\n",
    "    print(i)"
   ]
  },
  {
   "cell_type": "code",
   "execution_count": null,
   "metadata": {},
   "outputs": [],
   "source": [
    "a = (1,2,3,4)\n",
    "\n",
    "for i in a:\n",
    "    print(i)"
   ]
  },
  {
   "cell_type": "code",
   "execution_count": 23,
   "metadata": {},
   "outputs": [
    {
     "name": "stdout",
     "output_type": "stream",
     "text": [
      "a\n",
      "s\n",
      "d\n",
      "f\n",
      "l\n",
      "j\n"
     ]
    }
   ],
   "source": [
    "a = \"asdflj\"\n",
    "\n",
    "for i in a:\n",
    "    print(i)"
   ]
  },
  {
   "cell_type": "code",
   "execution_count": null,
   "metadata": {},
   "outputs": [],
   "source": [
    "break "
   ]
  },
  {
   "cell_type": "code",
   "execution_count": 26,
   "metadata": {},
   "outputs": [
    {
     "name": "stdout",
     "output_type": "stream",
     "text": [
      "value34\n"
     ]
    },
    {
     "data": {
      "text/plain": [
       "[10, 15, 20, 40]"
      ]
     },
     "execution_count": 26,
     "metadata": {},
     "output_type": "execute_result"
    }
   ],
   "source": [
    "a = [5,10,15,35,34]\n",
    "#b = [10,15,40,34]\n",
    "b = []\n",
    "for i in a:\n",
    "    if i%5 ==0:\n",
    "        b.append(i+5)\n",
    "    else:\n",
    "        print(\"value \" + str(i))\n",
    "        \n",
    "b"
   ]
  },
  {
   "cell_type": "code",
   "execution_count": 29,
   "metadata": {},
   "outputs": [
    {
     "data": {
      "text/plain": [
       "[10, 15, 20, 40, 34]"
      ]
     },
     "execution_count": 29,
     "metadata": {},
     "output_type": "execute_result"
    }
   ],
   "source": [
    "a = [5,10,15,35,34]\n",
    "#b = [10,15,40,34]\n",
    "b = []\n",
    "for i in a:\n",
    "    if i%5 != 0:\n",
    "        b.append(i)\n",
    "    else:\n",
    "        b.append(i+5)\n",
    "        \n",
    "b"
   ]
  },
  {
   "cell_type": "code",
   "execution_count": 34,
   "metadata": {},
   "outputs": [
    {
     "data": {
      "text/plain": [
       "[10, 15, 20, 40, 34, 60]"
      ]
     },
     "execution_count": 34,
     "metadata": {},
     "output_type": "execute_result"
    }
   ],
   "source": [
    "a = [5,10,15,35,34,60]\n",
    "#b = [10,15,40,34]\n",
    "# once the value , is not divisible by 5  stop incrmenting\n",
    "b = []\n",
    "x =0\n",
    "for i in a:\n",
    "    if i%5 != 0:\n",
    "        b.append(i)\n",
    "        x = 1\n",
    "        continue\n",
    "    else:\n",
    "        if x ==0:\n",
    "            b.append(i+5)\n",
    "        else:\n",
    "            b.append(i)\n",
    "    \n",
    "        \n",
    "b"
   ]
  },
  {
   "cell_type": "code",
   "execution_count": 36,
   "metadata": {},
   "outputs": [
    {
     "name": "stdout",
     "output_type": "stream",
     "text": [
      "**********************************************************************\n",
      " _   _      _ _       _ _ \n",
      "| | | | ___| | | ___ | | |\n",
      "| |_| |/ _ \\ | |/ _ \\| | |\n",
      "|  _  |  __/ | | (_) |_|_|\n",
      "|_| |_|\\___|_|_|\\___/(_|_)\n",
      "                          \n",
      "\n",
      "**********************************************************************\n"
     ]
    }
   ],
   "source": [
    "# def statements can be kept in conditions also.\n",
    "import pyfiglet\n",
    "\n",
    "print(\"*\"*70)\n",
    "ascii_banner = pyfiglet.figlet_format(\"Hello!!\")\n",
    "print(ascii_banner)\n",
    "print(\"*\"*70)"
   ]
  },
  {
   "cell_type": "code",
   "execution_count": 40,
   "metadata": {},
   "outputs": [],
   "source": [
    "# def statements can be kept in conditions also.\n",
    "import pyfiglet\n",
    "\n",
    "def func1(message):\n",
    "    print(\"*\"*70)\n",
    "    ascii_banner = pyfiglet.figlet_format(message)\n",
    "    print(ascii_banner)\n",
    "    print(\"*\"*70)"
   ]
  },
  {
   "cell_type": "code",
   "execution_count": 41,
   "metadata": {},
   "outputs": [
    {
     "name": "stdout",
     "output_type": "stream",
     "text": [
      "**********************************************************************\n",
      "               _  __               _  __ \n",
      "  __ _ ___  __| |/ _|___  __ _  __| |/ _|\n",
      " / _` / __|/ _` | |_/ __|/ _` |/ _` | |_ \n",
      "| (_| \\__ \\ (_| |  _\\__ \\ (_| | (_| |  _|\n",
      " \\__,_|___/\\__,_|_| |___/\\__,_|\\__,_|_|  \n",
      "                                         \n",
      "\n",
      "**********************************************************************\n"
     ]
    }
   ],
   "source": [
    "func1(\"asdfsadf\")"
   ]
  },
  {
   "cell_type": "code",
   "execution_count": 42,
   "metadata": {},
   "outputs": [],
   "source": [
    "def func1(message):\n",
    "    "
   ]
  },
  {
   "cell_type": "code",
   "execution_count": 44,
   "metadata": {},
   "outputs": [],
   "source": [
    "def func1(mesage):\n",
    "    pass"
   ]
  },
  {
   "cell_type": "code",
   "execution_count": null,
   "metadata": {},
   "outputs": [],
   "source": [
    "func funname {\n",
    "    \n",
    "}"
   ]
  },
  {
   "cell_type": "code",
   "execution_count": 50,
   "metadata": {},
   "outputs": [
    {
     "data": {
      "text/plain": [
       "[10, 15, 20, 40, 40, 65, 100]"
      ]
     },
     "execution_count": 50,
     "metadata": {},
     "output_type": "execute_result"
    }
   ],
   "source": [
    "# a = [5,10,15,35,34,60]\n",
    "a = [5,10,15,35,35,60]\n",
    "#b = [10,15,35,40,34,100]\n",
    "# once the value , is not divisible by 5 stop adding to new array\n",
    "# if above condition does not happens add 100 to resulting list.\n",
    "b = []\n",
    "x =0\n",
    "for i in a:\n",
    "    if i%5 != 0:\n",
    "        b.append(i)\n",
    "        x = 1\n",
    "        break\n",
    "    else:\n",
    "        if x ==0:\n",
    "            b.append(i+5)\n",
    "        else:\n",
    "            b.append(i)\n",
    "else:\n",
    "     b.append(100)\n",
    "b"
   ]
  },
  {
   "cell_type": "code",
   "execution_count": 51,
   "metadata": {},
   "outputs": [],
   "source": [
    "a = [5,10,15,35,35,60,'sdf']\n"
   ]
  },
  {
   "cell_type": "code",
   "execution_count": null,
   "metadata": {},
   "outputs": [],
   "source": []
  }
 ],
 "metadata": {
  "kernelspec": {
   "display_name": "Python 3",
   "language": "python",
   "name": "python3"
  },
  "language_info": {
   "codemirror_mode": {
    "name": "ipython",
    "version": 3
   },
   "file_extension": ".py",
   "mimetype": "text/x-python",
   "name": "python",
   "nbconvert_exporter": "python",
   "pygments_lexer": "ipython3",
   "version": "3.11.3"
  },
  "orig_nbformat": 4
 },
 "nbformat": 4,
 "nbformat_minor": 2
}
