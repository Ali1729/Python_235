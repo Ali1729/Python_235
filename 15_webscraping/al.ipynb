{
 "cells": [
  {
   "cell_type": "code",
   "execution_count": 1,
   "metadata": {},
   "outputs": [],
   "source": [
    "from bs4 import BeautifulSoup\n",
    "import requests\n",
    "response = requests.get('https://en.wikipedia.org/wiki/Lists_of_Telugu-language_films')\n",
    "resp = BeautifulSoup(response.text, 'html.parser')\n"
   ]
  },
  {
   "cell_type": "code",
   "execution_count": 24,
   "metadata": {},
   "outputs": [],
   "source": [
    "import requests\n",
    "base_url = \"https://github.com/topics/\"\n",
    "git_base_url=\"https://github.com\"\n",
    "response = requests.get(base_url)"
   ]
  },
  {
   "cell_type": "code",
   "execution_count": 5,
   "metadata": {},
   "outputs": [
    {
     "data": {
      "text/plain": [
       "200"
      ]
     },
     "execution_count": 5,
     "metadata": {},
     "output_type": "execute_result"
    }
   ],
   "source": [
    "response.status_code"
   ]
  },
  {
   "cell_type": "code",
   "execution_count": 8,
   "metadata": {},
   "outputs": [],
   "source": [
    "with open('base.html','w', encoding='utf-8') as fp:\n",
    "    fp.writelines(response.text)"
   ]
  },
  {
   "cell_type": "code",
   "execution_count": 14,
   "metadata": {},
   "outputs": [],
   "source": [
    "with open('base.html','r',encoding='utf-8') as fp:\n",
    "    file_content = fp.readlines()"
   ]
  },
  {
   "cell_type": "code",
   "execution_count": 15,
   "metadata": {},
   "outputs": [
    {
     "name": "stdout",
     "output_type": "stream",
     "text": [
      "<p class=\"f3 lh-condensed mb-0 mt-1 Link--primary\">Ajax</p>\n",
      "<p class=\"f3 lh-condensed mb-0 mt-1 Link--primary\">Algorithm</p>\n",
      "<p class=\"f3 lh-condensed mb-0 mt-1 Link--primary\">Amp</p>\n",
      "<p class=\"f3 lh-condensed mb-0 mt-1 Link--primary\">Android</p>\n",
      "<p class=\"f3 lh-condensed mb-0 mt-1 Link--primary\">Angular</p>\n",
      "<p class=\"f3 lh-condensed mb-0 mt-1 Link--primary\">Ansible</p>\n",
      "<p class=\"f3 lh-condensed mb-0 mt-1 Link--primary\">API</p>\n",
      "<p class=\"f3 lh-condensed mb-0 mt-1 Link--primary\">Arduino</p>\n",
      "<p class=\"f3 lh-condensed mb-0 mt-1 Link--primary\">ASP.NET</p>\n",
      "<p class=\"f3 lh-condensed mb-0 mt-1 Link--primary\">Atom</p>\n",
      "<p class=\"f3 lh-condensed mb-0 mt-1 Link--primary\">Awesome Lists</p>\n",
      "<p class=\"f3 lh-condensed mb-0 mt-1 Link--primary\">Amazon Web Services</p>\n",
      "<p class=\"f3 lh-condensed mb-0 mt-1 Link--primary\">Azure</p>\n",
      "<p class=\"f3 lh-condensed mb-0 mt-1 Link--primary\">Babel</p>\n",
      "<p class=\"f3 lh-condensed mb-0 mt-1 Link--primary\">Bash</p>\n",
      "<p class=\"f3 lh-condensed mb-0 mt-1 Link--primary\">Bitcoin</p>\n",
      "<p class=\"f3 lh-condensed mb-0 mt-1 Link--primary\">Bootstrap</p>\n",
      "<p class=\"f3 lh-condensed mb-0 mt-1 Link--primary\">Bot</p>\n",
      "<p class=\"f3 lh-condensed mb-0 mt-1 Link--primary\">C</p>\n",
      "<p class=\"f3 lh-condensed mb-0 mt-1 Link--primary\">Chrome</p>\n",
      "<p class=\"f3 lh-condensed mb-0 mt-1 Link--primary\">Chrome extension</p>\n",
      "<p class=\"f3 lh-condensed mb-0 mt-1 Link--primary\">Command line interface</p>\n",
      "<p class=\"f3 lh-condensed mb-0 mt-1 Link--primary\">Clojure</p>\n",
      "<p class=\"f3 lh-condensed mb-0 mt-1 Link--primary\">Code quality</p>\n",
      "<p class=\"f3 lh-condensed mb-0 mt-1 Link--primary\">Code review</p>\n",
      "<p class=\"f3 lh-condensed mb-0 mt-1 Link--primary\">Compiler</p>\n",
      "<p class=\"f3 lh-condensed mb-0 mt-1 Link--primary\">Continuous integration</p>\n",
      "<p class=\"f3 lh-condensed mb-0 mt-1 Link--primary\">COVID-19</p>\n",
      "<p class=\"f3 lh-condensed mb-0 mt-1 Link--primary\">C++</p>\n"
     ]
    }
   ],
   "source": [
    "for line in file_content:\n",
    "    line = line.strip()\n",
    "    if line.startswith('<p class=\"f3 lh-condensed mb-0 mt-1 Link--primary\"'):\n",
    "        print(line)"
   ]
  },
  {
   "cell_type": "code",
   "execution_count": 23,
   "metadata": {},
   "outputs": [],
   "source": [
    "from bs4 import BeautifulSoup\n",
    "soup = BeautifulSoup(response.text, 'html.parser') # xml parser."
   ]
  },
  {
   "cell_type": "code",
   "execution_count": null,
   "metadata": {},
   "outputs": [],
   "source": []
  },
  {
   "cell_type": "code",
   "execution_count": 34,
   "metadata": {},
   "outputs": [],
   "source": [
    "topic_class = 'f3 lh-condensed mb-0 mt-1 Link--primary'\n",
    "topic_details = soup.find_all('p',topic_class)"
   ]
  },
  {
   "cell_type": "code",
   "execution_count": 57,
   "metadata": {},
   "outputs": [],
   "source": [
    "topic_names=[]\n",
    "for topic_tag in topic_details:\n",
    "    topic_names.append(topic_tag.contents[0])\n",
    "    \n"
   ]
  },
  {
   "cell_type": "code",
   "execution_count": 58,
   "metadata": {},
   "outputs": [
    {
     "data": {
      "text/plain": [
       "['3D',\n",
       " 'Ajax',\n",
       " 'Algorithm',\n",
       " 'Amp',\n",
       " 'Android',\n",
       " 'Angular',\n",
       " 'Ansible',\n",
       " 'API',\n",
       " 'Arduino',\n",
       " 'ASP.NET',\n",
       " 'Atom',\n",
       " 'Awesome Lists',\n",
       " 'Amazon Web Services',\n",
       " 'Azure',\n",
       " 'Babel',\n",
       " 'Bash',\n",
       " 'Bitcoin',\n",
       " 'Bootstrap',\n",
       " 'Bot',\n",
       " 'C',\n",
       " 'Chrome',\n",
       " 'Chrome extension',\n",
       " 'Command line interface',\n",
       " 'Clojure',\n",
       " 'Code quality',\n",
       " 'Code review',\n",
       " 'Compiler',\n",
       " 'Continuous integration',\n",
       " 'COVID-19',\n",
       " 'C++']"
      ]
     },
     "execution_count": 58,
     "metadata": {},
     "output_type": "execute_result"
    }
   ],
   "source": [
    "topic_names"
   ]
  },
  {
   "cell_type": "code",
   "execution_count": 39,
   "metadata": {},
   "outputs": [],
   "source": [
    "head_tag = soup.head"
   ]
  },
  {
   "cell_type": "code",
   "execution_count": 41,
   "metadata": {},
   "outputs": [
    {
     "data": {
      "text/plain": [
       "['\\n',\n",
       " <meta charset=\"utf-8\"/>,\n",
       " '\\n',\n",
       " <link href=\"https://github.githubassets.com\" rel=\"dns-prefetch\"/>,\n",
       " '\\n',\n",
       " <link href=\"https://avatars.githubusercontent.com\" rel=\"dns-prefetch\"/>,\n",
       " '\\n',\n",
       " <link href=\"https://github-cloud.s3.amazonaws.com\" rel=\"dns-prefetch\"/>,\n",
       " '\\n',\n",
       " <link href=\"https://user-images.githubusercontent.com/\" rel=\"dns-prefetch\"/>,\n",
       " '\\n',\n",
       " <link crossorigin=\"\" href=\"https://github.githubassets.com\" rel=\"preconnect\"/>,\n",
       " '\\n',\n",
       " <link href=\"https://avatars.githubusercontent.com\" rel=\"preconnect\"/>,\n",
       " '\\n',\n",
       " <link crossorigin=\"anonymous\" href=\"https://github.githubassets.com/assets/light-0946cdc16f15.css\" media=\"all\" rel=\"stylesheet\"><link crossorigin=\"anonymous\" href=\"https://github.githubassets.com/assets/dark-3946c959759a.css\" media=\"all\" rel=\"stylesheet\"><link crossorigin=\"anonymous\" data-color-theme=\"dark_dimmed\" data-href=\"https://github.githubassets.com/assets/dark_dimmed-9b9a8c91acc5.css\" media=\"all\" rel=\"stylesheet\"><link crossorigin=\"anonymous\" data-color-theme=\"dark_high_contrast\" data-href=\"https://github.githubassets.com/assets/dark_high_contrast-11302a585e33.css\" media=\"all\" rel=\"stylesheet\"><link crossorigin=\"anonymous\" data-color-theme=\"dark_colorblind\" data-href=\"https://github.githubassets.com/assets/dark_colorblind-1a4564ab0fbf.css\" media=\"all\" rel=\"stylesheet\"><link crossorigin=\"anonymous\" data-color-theme=\"light_colorblind\" data-href=\"https://github.githubassets.com/assets/light_colorblind-12a8b2aa9101.css\" media=\"all\" rel=\"stylesheet\"><link crossorigin=\"anonymous\" data-color-theme=\"light_high_contrast\" data-href=\"https://github.githubassets.com/assets/light_high_contrast-5924a648f3e7.css\" media=\"all\" rel=\"stylesheet\"/><link crossorigin=\"anonymous\" data-color-theme=\"light_tritanopia\" data-href=\"https://github.githubassets.com/assets/light_tritanopia-05358496cb79.css\" media=\"all\" rel=\"stylesheet\"/><link crossorigin=\"anonymous\" data-color-theme=\"dark_tritanopia\" data-href=\"https://github.githubassets.com/assets/dark_tritanopia-aad6b801a158.css\" media=\"all\" rel=\"stylesheet\"/>\n",
       " <link crossorigin=\"anonymous\" href=\"https://github.githubassets.com/assets/primer-primitives-fb1d51d1ef66.css\" media=\"all\" rel=\"stylesheet\"/>\n",
       " <link crossorigin=\"anonymous\" href=\"https://github.githubassets.com/assets/primer-57c312e484b2.css\" media=\"all\" rel=\"stylesheet\"/>\n",
       " <link crossorigin=\"anonymous\" href=\"https://github.githubassets.com/assets/global-0d04dfcdc794.css\" media=\"all\" rel=\"stylesheet\"/>\n",
       " <link crossorigin=\"anonymous\" href=\"https://github.githubassets.com/assets/github-c7a3a0ac71d4.css\" media=\"all\" rel=\"stylesheet\"/>\n",
       " <link crossorigin=\"anonymous\" href=\"https://github.githubassets.com/assets/site-2e14bc28cc0a.css\" media=\"all\" rel=\"stylesheet\"/>\n",
       " <link crossorigin=\"anonymous\" href=\"https://github.githubassets.com/assets/explore-7cbc4c438037.css\" media=\"all\" rel=\"stylesheet\"/>\n",
       " <link crossorigin=\"anonymous\" href=\"https://github.githubassets.com/assets/dashboard-7197964704de.css\" media=\"all\" rel=\"stylesheet\"/>\n",
       " <link crossorigin=\"anonymous\" href=\"https://github.githubassets.com/assets/discussions-6ad34c16e040.css\" media=\"all\" rel=\"stylesheet\"/>\n",
       " <script crossorigin=\"anonymous\" defer=\"defer\" src=\"https://github.githubassets.com/assets/wp-runtime-377d421cc9f7.js\" type=\"application/javascript\"></script>\n",
       " <script crossorigin=\"anonymous\" defer=\"defer\" src=\"https://github.githubassets.com/assets/vendors-node_modules_stacktrace-parser_dist_stack-trace-parser_esm_js-node_modules_github_bro-a4c183-ae93d3fba59c.js\" type=\"application/javascript\"></script>\n",
       " <script crossorigin=\"anonymous\" defer=\"defer\" src=\"https://github.githubassets.com/assets/ui_packages_failbot_failbot_ts-e38c93eab86e.js\" type=\"application/javascript\"></script>\n",
       " <script crossorigin=\"anonymous\" defer=\"defer\" src=\"https://github.githubassets.com/assets/environment-de3997b81651.js\" type=\"application/javascript\"></script>\n",
       " <script crossorigin=\"anonymous\" defer=\"defer\" src=\"https://github.githubassets.com/assets/vendors-node_modules_github_selector-observer_dist_index_esm_js-2646a2c533e3.js\" type=\"application/javascript\"></script>\n",
       " <script crossorigin=\"anonymous\" defer=\"defer\" src=\"https://github.githubassets.com/assets/vendors-node_modules_github_relative-time-element_dist_index_js-99e288659d4f.js\" type=\"application/javascript\"></script>\n",
       " <script crossorigin=\"anonymous\" defer=\"defer\" src=\"https://github.githubassets.com/assets/vendors-node_modules_fzy_js_index_js-node_modules_github_markdown-toolbar-element_dist_index_js-e3de700a4c9d.js\" type=\"application/javascript\"></script>\n",
       " <script crossorigin=\"anonymous\" defer=\"defer\" src=\"https://github.githubassets.com/assets/vendors-node_modules_delegated-events_dist_index_js-node_modules_github_auto-complete-element-5b3870-ff38694180c6.js\" type=\"application/javascript\"></script>\n",
       " <script crossorigin=\"anonymous\" defer=\"defer\" src=\"https://github.githubassets.com/assets/vendors-node_modules_github_file-attachment-element_dist_index_js-node_modules_github_text-ex-3415a8-7ecc10fb88d0.js\" type=\"application/javascript\"></script>\n",
       " <script crossorigin=\"anonymous\" defer=\"defer\" src=\"https://github.githubassets.com/assets/vendors-node_modules_github_filter-input-element_dist_index_js-node_modules_github_remote-inp-8873b7-5771678648e0.js\" type=\"application/javascript\"></script>\n",
       " <script crossorigin=\"anonymous\" defer=\"defer\" src=\"https://github.githubassets.com/assets/vendors-node_modules_primer_view-components_app_components_primer_primer_js-node_modules_gith-3af896-ba2b2ef33e4b.js\" type=\"application/javascript\"></script>\n",
       " <script crossorigin=\"anonymous\" defer=\"defer\" src=\"https://github.githubassets.com/assets/github-elements-7b037525f59f.js\" type=\"application/javascript\"></script>\n",
       " <script crossorigin=\"anonymous\" defer=\"defer\" src=\"https://github.githubassets.com/assets/element-registry-8f404beaf269.js\" type=\"application/javascript\"></script>\n",
       " <script crossorigin=\"anonymous\" defer=\"defer\" src=\"https://github.githubassets.com/assets/vendors-node_modules_lit-html_lit-html_js-9d9fe1859ce5.js\" type=\"application/javascript\"></script>\n",
       " <script crossorigin=\"anonymous\" defer=\"defer\" src=\"https://github.githubassets.com/assets/vendors-node_modules_github_mini-throttle_dist_index_js-node_modules_github_alive-client_dist-bf5aa2-424aa982deef.js\" type=\"application/javascript\"></script>\n",
       " <script crossorigin=\"anonymous\" defer=\"defer\" src=\"https://github.githubassets.com/assets/vendors-node_modules_github_turbo_dist_turbo_es2017-esm_js-ba0e4d5b3207.js\" type=\"application/javascript\"></script>\n",
       " <script crossorigin=\"anonymous\" defer=\"defer\" src=\"https://github.githubassets.com/assets/vendors-node_modules_color-convert_index_js-node_modules_github_jtml_lib_index_js-40bf234a19dc.js\" type=\"application/javascript\"></script>\n",
       " <script crossorigin=\"anonymous\" defer=\"defer\" src=\"https://github.githubassets.com/assets/vendors-node_modules_github_remote-form_dist_index_js-node_modules_scroll-anchoring_dist_scro-52dc4b-e1e33bfc0b7e.js\" type=\"application/javascript\"></script>\n",
       " <script crossorigin=\"anonymous\" defer=\"defer\" src=\"https://github.githubassets.com/assets/vendors-node_modules_github_paste-markdown_dist_index_esm_js-node_modules_github_quote-select-743f1d-1b20d530fbf0.js\" type=\"application/javascript\"></script>\n",
       " <script crossorigin=\"anonymous\" defer=\"defer\" src=\"https://github.githubassets.com/assets/app_assets_modules_github_updatable-content_ts-dadb69f79923.js\" type=\"application/javascript\"></script>\n",
       " <script crossorigin=\"anonymous\" defer=\"defer\" src=\"https://github.githubassets.com/assets/app_assets_modules_github_behaviors_keyboard-shortcuts-helper_ts-app_assets_modules_github_be-f5afdb-3f05df4c282b.js\" type=\"application/javascript\"></script>\n",
       " <script crossorigin=\"anonymous\" defer=\"defer\" src=\"https://github.githubassets.com/assets/app_assets_modules_github_blob-anchor_ts-app_assets_modules_github_code-editor_ts-app_assets_-8128e1-65aa849c94d7.js\" type=\"application/javascript\"></script>\n",
       " <script crossorigin=\"anonymous\" defer=\"defer\" src=\"https://github.githubassets.com/assets/app_assets_modules_github_sticky-scroll-into-view_ts-1d145b63ed56.js\" type=\"application/javascript\"></script>\n",
       " <script crossorigin=\"anonymous\" defer=\"defer\" src=\"https://github.githubassets.com/assets/app_assets_modules_github_behaviors_ajax-error_ts-app_assets_modules_github_behaviors_include-2e2258-dae7d38e0248.js\" type=\"application/javascript\"></script>\n",
       " <script crossorigin=\"anonymous\" defer=\"defer\" src=\"https://github.githubassets.com/assets/app_assets_modules_github_behaviors_commenting_edit_ts-app_assets_modules_github_behaviors_ht-83c235-c97eacdef68a.js\" type=\"application/javascript\"></script>\n",
       " <script crossorigin=\"anonymous\" defer=\"defer\" src=\"https://github.githubassets.com/assets/behaviors-d1b433c1b6c2.js\" type=\"application/javascript\"></script>\n",
       " <script crossorigin=\"anonymous\" defer=\"defer\" src=\"https://github.githubassets.com/assets/vendors-node_modules_delegated-events_dist_index_js-node_modules_github_catalyst_lib_index_js-623425af41e1.js\" type=\"application/javascript\"></script>\n",
       " <script crossorigin=\"anonymous\" defer=\"defer\" src=\"https://github.githubassets.com/assets/notifications-global-4dc6f295cc92.js\" type=\"application/javascript\"></script>\n",
       " <title>Topics on GitHub · GitHub</title>\n",
       " <meta content=\"/topics(.:format)\" name=\"route-pattern\"/>\n",
       " <meta content=\"580e020ff5acc46ed55f2372ada45b3ff61fa1c9576b8e05992ec043d3e86edd\" name=\"current-catalog-service-hash\"/>\n",
       " <meta content=\"1C61:9921:2C2B735:406DBF1:6466CD68\" data-pjax-transient=\"true\" name=\"request-id\"><meta content=\"014d9745e2423178b897dcacdbd62715a1599b4906857f8761b2c5ce662875b0\" data-pjax-transient=\"true\" name=\"html-safe-nonce\"><meta content=\"eyJyZWZlcnJlciI6IiIsInJlcXVlc3RfaWQiOiIxQzYxOjk5MjE6MkMyQjczNTo0MDZEQkYxOjY0NjZDRDY4IiwidmlzaXRvcl9pZCI6IjQyMzM0MzYxMTg3MzMyMTMwMzIiLCJyZWdpb25fZWRnZSI6ImlhZCIsInJlZ2lvbl9yZW5kZXIiOiJpYWQifQ==\" data-pjax-transient=\"true\" name=\"visitor-payload\"><meta content=\"82a2c09985f6d40e74f97c388aae44616f741f5193f2d6850e145ba55d601241\" data-pjax-transient=\"true\" name=\"visitor-hmac\"/>\n",
       " <meta content=\"\" data-turbo-transient=\"true\" name=\"github-keyboard-shortcuts\"/>\n",
       " <meta data-turbo-transient=\"\" name=\"selected-link\" value=\"/topics\"/>\n",
       " <link href=\"https://github.githubassets.com/\" rel=\"assets\"/>\n",
       " <meta content=\"c1kuD-K2HIVF635lypcsWPoD4kilo5-jA_wBFyT4uMY\" name=\"google-site-verification\"/>\n",
       " <meta content=\"KT5gs8h0wvaagLKAVWq8bbeNwnZZK1r1XQysX3xurLU\" name=\"google-site-verification\"/>\n",
       " <meta content=\"ZzhVyEFwb7w3e0-uOTltm8Jsck2F5StVihD0exw2fsA\" name=\"google-site-verification\"/>\n",
       " <meta content=\"GXs5KoUUkNCoaAZn7wPN-t01Pywp9M3sEjnt_3_ZWPc\" name=\"google-site-verification\"/>\n",
       " <meta content=\"Apib7-x98H0j5cPqHWwSMm6dNU4GmODRoqxLiDzdx9I\" name=\"google-site-verification\"/>\n",
       " <meta content=\"https://collector.github.com/github/collect\" name=\"octolytics-url\">\n",
       " <meta content=\"\" name=\"user-login\"/>\n",
       " <meta content=\"width=device-width\" name=\"viewport\"/>\n",
       " <meta content=\"GitHub is where people build software. More than 100 million people use GitHub to discover, fork, and contribute to over 330 million projects.\" name=\"description\"/>\n",
       " <link href=\"/opensearch.xml\" rel=\"search\" title=\"GitHub\" type=\"application/opensearchdescription+xml\"/>\n",
       " <link href=\"https://github.com/fluidicon.png\" rel=\"fluid-icon\" title=\"GitHub\"/>\n",
       " <meta content=\"1401488693436528\" property=\"fb:app_id\"/>\n",
       " <meta content=\"app-id=1477376905\" name=\"apple-itunes-app\">\n",
       " <meta content=\"https://github.com\" property=\"og:url\"/>\n",
       " <meta content=\"GitHub\" property=\"og:site_name\"/>\n",
       " <meta content=\"Build software better, together\" property=\"og:title\"/>\n",
       " <meta content=\"GitHub is where people build software. More than 100 million people use GitHub to discover, fork, and contribute to over 330 million projects.\" property=\"og:description\"/>\n",
       " <meta content=\"https://github.githubassets.com/images/modules/open_graph/github-logo.png\" property=\"og:image\"/>\n",
       " <meta content=\"image/png\" property=\"og:image:type\"/>\n",
       " <meta content=\"1200\" property=\"og:image:width\"/>\n",
       " <meta content=\"1200\" property=\"og:image:height\"/>\n",
       " <meta content=\"https://github.githubassets.com/images/modules/open_graph/github-mark.png\" property=\"og:image\"/>\n",
       " <meta content=\"image/png\" property=\"og:image:type\"/>\n",
       " <meta content=\"1200\" property=\"og:image:width\"/>\n",
       " <meta content=\"620\" property=\"og:image:height\"/>\n",
       " <meta content=\"https://github.githubassets.com/images/modules/open_graph/github-octocat.png\" property=\"og:image\"/>\n",
       " <meta content=\"image/png\" property=\"og:image:type\"/>\n",
       " <meta content=\"1200\" property=\"og:image:width\"/>\n",
       " <meta content=\"620\" property=\"og:image:height\"/>\n",
       " <meta content=\"github\" property=\"twitter:site\"/>\n",
       " <meta content=\"13334762\" property=\"twitter:site:id\"/>\n",
       " <meta content=\"github\" property=\"twitter:creator\"/>\n",
       " <meta content=\"13334762\" property=\"twitter:creator:id\"/>\n",
       " <meta content=\"summary_large_image\" property=\"twitter:card\"/>\n",
       " <meta content=\"GitHub\" property=\"twitter:title\"/>\n",
       " <meta content=\"GitHub is where people build software. More than 100 million people use GitHub to discover, fork, and contribute to over 330 million projects.\" property=\"twitter:description\"/>\n",
       " <meta content=\"https://github.githubassets.com/images/modules/open_graph/github-logo.png\" property=\"twitter:image:src\"/>\n",
       " <meta content=\"1200\" property=\"twitter:image:width\"/>\n",
       " <meta content=\"1200\" property=\"twitter:image:height\"/>\n",
       " <meta content=\"github.com\" name=\"hostname\"/>\n",
       " <meta content=\"github.com\" name=\"expected-hostname\"/>\n",
       " <meta content=\"TURBO_EXPERIMENT_RISKY,IMAGE_METRIC_TRACKING,GEOJSON_AZURE_MAPS\" name=\"enabled-features\"/>\n",
       " <meta content=\"3807c417764ef84ea7031968fd961b802b0cb95a11ee99ccfca958ed7b1d7914\" data-turbo-track=\"reload\" http-equiv=\"x-pjax-version\"/>\n",
       " <meta content=\"0db263f9a873141d8256f783c35f244c06d490aacc3b680f99794dd8fd59fb59\" data-turbo-track=\"reload\" http-equiv=\"x-pjax-csp-version\"/>\n",
       " <meta content=\"e8aa01474d0c779a222d3c578e207f1c2a3df88c4896c35f0c67bac5015a1869\" data-turbo-track=\"reload\" http-equiv=\"x-pjax-css-version\"/>\n",
       " <meta content=\"f70ea5b9052274af7e78261f6d80aa2ae693009e3f178b2df9ff5f579348cca6\" data-turbo-track=\"reload\" http-equiv=\"x-pjax-js-version\"/>\n",
       " <meta content=\"no-preview\" data-turbo-transient=\"\" name=\"turbo-cache-control\"/>\n",
       " <meta content=\"logged-out env-production page-responsive\" name=\"turbo-body-classes\"/>\n",
       " <meta content=\"https://api.github.com/_private/browser/stats\" name=\"browser-stats-url\"/>\n",
       " <meta content=\"https://api.github.com/_private/browser/errors\" name=\"browser-errors-url\"/>\n",
       " <meta content=\"https://api.github.com/_private/browser/optimizely_client/errors\" name=\"browser-optimizely-client-errors-url\"/>\n",
       " <link color=\"#000000\" href=\"https://github.githubassets.com/pinned-octocat.svg\" rel=\"mask-icon\"/>\n",
       " <link class=\"js-site-favicon\" href=\"https://github.githubassets.com/favicons/favicon.png\" rel=\"alternate icon\" type=\"image/png\"/>\n",
       " <link class=\"js-site-favicon\" href=\"https://github.githubassets.com/favicons/favicon.svg\" rel=\"icon\" type=\"image/svg+xml\"/>\n",
       " <meta content=\"#1e2327\" name=\"theme-color\"/>\n",
       " <meta content=\"light dark\" name=\"color-scheme\">\n",
       " <link crossorigin=\"use-credentials\" href=\"/manifest.json\" rel=\"manifest\"/>\n",
       " </meta></meta></meta></meta></meta></meta></link></link></link></link></link></link>]"
      ]
     },
     "execution_count": 41,
     "metadata": {},
     "output_type": "execute_result"
    }
   ],
   "source": [
    "head_tag.contents"
   ]
  },
  {
   "cell_type": "code",
   "execution_count": 45,
   "metadata": {},
   "outputs": [],
   "source": [
    "\n",
    "url_class = 'no-underline flex-1 d-flex flex-column'\n",
    "url_details = soup.find_all('a',url_class)"
   ]
  },
  {
   "cell_type": "code",
   "execution_count": 48,
   "metadata": {},
   "outputs": [
    {
     "data": {
      "text/plain": [
       "'/topics/3d'"
      ]
     },
     "execution_count": 48,
     "metadata": {},
     "output_type": "execute_result"
    }
   ],
   "source": [
    "url_details[0].get(\"href\")"
   ]
  },
  {
   "attachments": {},
   "cell_type": "markdown",
   "metadata": {},
   "source": [
    "https://github.com/topics/aspnet\n",
    "\n",
    "/topics/algorithm"
   ]
  },
  {
   "cell_type": "code",
   "execution_count": 59,
   "metadata": {},
   "outputs": [],
   "source": [
    "topic_urls = []\n",
    "for url in url_details:\n",
    "    topic_urls.append(git_base_url+url.get(\"href\"))"
   ]
  },
  {
   "cell_type": "code",
   "execution_count": 60,
   "metadata": {},
   "outputs": [],
   "source": [
    "\n",
    "topic_names=[]\n",
    "for topic_tag in topic_details:\n",
    "    topic_names.append(topic_tag.contents[0])\n",
    "    \n",
    "topic_urls = []\n",
    "for url in url_details:\n",
    "    topic_urls.append(git_base_url+url.get(\"href\"))"
   ]
  },
  {
   "cell_type": "code",
   "execution_count": 61,
   "metadata": {},
   "outputs": [],
   "source": [
    "\n",
    "topic_dict = {\"topic_name\":topic_names,\n",
    "              \"topic_urls\":topic_urls}"
   ]
  },
  {
   "cell_type": "code",
   "execution_count": 62,
   "metadata": {},
   "outputs": [
    {
     "data": {
      "text/plain": [
       "{'topic_name': ['3D',\n",
       "  'Ajax',\n",
       "  'Algorithm',\n",
       "  'Amp',\n",
       "  'Android',\n",
       "  'Angular',\n",
       "  'Ansible',\n",
       "  'API',\n",
       "  'Arduino',\n",
       "  'ASP.NET',\n",
       "  'Atom',\n",
       "  'Awesome Lists',\n",
       "  'Amazon Web Services',\n",
       "  'Azure',\n",
       "  'Babel',\n",
       "  'Bash',\n",
       "  'Bitcoin',\n",
       "  'Bootstrap',\n",
       "  'Bot',\n",
       "  'C',\n",
       "  'Chrome',\n",
       "  'Chrome extension',\n",
       "  'Command line interface',\n",
       "  'Clojure',\n",
       "  'Code quality',\n",
       "  'Code review',\n",
       "  'Compiler',\n",
       "  'Continuous integration',\n",
       "  'COVID-19',\n",
       "  'C++'],\n",
       " 'topic_urls': ['https://github.com/topics/3d',\n",
       "  'https://github.com/topics/ajax',\n",
       "  'https://github.com/topics/algorithm',\n",
       "  'https://github.com/topics/amphp',\n",
       "  'https://github.com/topics/android',\n",
       "  'https://github.com/topics/angular',\n",
       "  'https://github.com/topics/ansible',\n",
       "  'https://github.com/topics/api',\n",
       "  'https://github.com/topics/arduino',\n",
       "  'https://github.com/topics/aspnet',\n",
       "  'https://github.com/topics/atom',\n",
       "  'https://github.com/topics/awesome',\n",
       "  'https://github.com/topics/aws',\n",
       "  'https://github.com/topics/azure',\n",
       "  'https://github.com/topics/babel',\n",
       "  'https://github.com/topics/bash',\n",
       "  'https://github.com/topics/bitcoin',\n",
       "  'https://github.com/topics/bootstrap',\n",
       "  'https://github.com/topics/bot',\n",
       "  'https://github.com/topics/c',\n",
       "  'https://github.com/topics/chrome',\n",
       "  'https://github.com/topics/chrome-extension',\n",
       "  'https://github.com/topics/cli',\n",
       "  'https://github.com/topics/clojure',\n",
       "  'https://github.com/topics/code-quality',\n",
       "  'https://github.com/topics/code-review',\n",
       "  'https://github.com/topics/compiler',\n",
       "  'https://github.com/topics/continuous-integration',\n",
       "  'https://github.com/topics/covid-19',\n",
       "  'https://github.com/topics/cpp']}"
      ]
     },
     "execution_count": 62,
     "metadata": {},
     "output_type": "execute_result"
    }
   ],
   "source": [
    "topic_dict"
   ]
  },
  {
   "cell_type": "code",
   "execution_count": 64,
   "metadata": {},
   "outputs": [],
   "source": [
    "import pandas as pd\n",
    "\n",
    "topic_df =pd.DataFrame(topic_dict)"
   ]
  },
  {
   "cell_type": "code",
   "execution_count": 66,
   "metadata": {},
   "outputs": [],
   "source": [
    "topic_df.to_csv(\"topic_details1.csv\",index=False)"
   ]
  },
  {
   "cell_type": "code",
   "execution_count": 3,
   "metadata": {},
   "outputs": [
    {
     "name": "stdout",
     "output_type": "stream",
     "text": [
      "(1, 'a')\n",
      "(2, 'b')\n",
      "(3, 'c')\n"
     ]
    }
   ],
   "source": [
    "a =[1,2,3]\n",
    "b = [\"a\",\"b\",\"c\",\"d\"]\n",
    "for i in zip(a,b):\n",
    "    print(i)"
   ]
  },
  {
   "cell_type": "code",
   "execution_count": 4,
   "metadata": {},
   "outputs": [],
   "source": [
    "from bs4 import BeautifulSoup\n",
    "import requests\n",
    "import pandas as pd\n",
    "\n",
    "topic_url =\"https://github.com/topics/3d\"\n",
    "\n",
    "response = requests.get(topic_url)\n",
    "soup = BeautifulSoup(response.text, 'html.parser')"
   ]
  },
  {
   "cell_type": "code",
   "execution_count": 7,
   "metadata": {},
   "outputs": [],
   "source": [
    "username_class = 'f3 color-fg-muted text-normal lh-condensed'\n",
    "username_details = soup.find_all('h3',username_class)"
   ]
  },
  {
   "cell_type": "code",
   "execution_count": 14,
   "metadata": {},
   "outputs": [
    {
     "data": {
      "text/plain": [
       "'mrdoob'"
      ]
     },
     "execution_count": 14,
     "metadata": {},
     "output_type": "execute_result"
    }
   ],
   "source": [
    "username_details[0].text.strip().split(\"\\n\")[0]"
   ]
  },
  {
   "cell_type": "code",
   "execution_count": 17,
   "metadata": {},
   "outputs": [
    {
     "data": {
      "text/plain": [
       "['mrdoob',\n",
       " 'pmndrs',\n",
       " 'libgdx',\n",
       " 'BabylonJS',\n",
       " 'ssloy',\n",
       " 'aframevr',\n",
       " 'lettier',\n",
       " 'FreeCAD',\n",
       " 'CesiumGS',\n",
       " 'metafizzy',\n",
       " 'timzhang642',\n",
       " 'isl-org',\n",
       " 'blender',\n",
       " 'a1studmuffin',\n",
       " 'domlysz',\n",
       " 'FyroxEngine',\n",
       " 'google',\n",
       " 'openscad',\n",
       " 'spritejs',\n",
       " 'nerfstudio-project']"
      ]
     },
     "execution_count": 17,
     "metadata": {},
     "output_type": "execute_result"
    }
   ],
   "source": [
    "username_names =[]\n",
    "for user_detail_tag in username_details:\n",
    "   username_names.append(user_detail_tag.text.strip().split(\"\\n\")[0])\n",
    "\n",
    "username_names"
   ]
  },
  {
   "cell_type": "code",
   "execution_count": 18,
   "metadata": {},
   "outputs": [],
   "source": [
    "project_url_class = 'text-bold wb-break-word'\n",
    "project_url_details = soup.find_all('a',project_url_class)"
   ]
  },
  {
   "cell_type": "code",
   "execution_count": 21,
   "metadata": {},
   "outputs": [
    {
     "data": {
      "text/plain": [
       "'/mrdoob/three.js'"
      ]
     },
     "execution_count": 21,
     "metadata": {},
     "output_type": "execute_result"
    }
   ],
   "source": [
    "project_url_details[0].get(\"href\")"
   ]
  },
  {
   "cell_type": "code",
   "execution_count": 37,
   "metadata": {},
   "outputs": [
    {
     "data": {
      "text/plain": [
       "['https://github.com/mrdoob/three.js',\n",
       " 'https://github.com/pmndrs/react-three-fiber',\n",
       " 'https://github.com/libgdx/libgdx',\n",
       " 'https://github.com/BabylonJS/Babylon.js',\n",
       " 'https://github.com/ssloy/tinyrenderer',\n",
       " 'https://github.com/aframevr/aframe',\n",
       " 'https://github.com/lettier/3d-game-shaders-for-beginners',\n",
       " 'https://github.com/FreeCAD/FreeCAD',\n",
       " 'https://github.com/CesiumGS/cesium',\n",
       " 'https://github.com/metafizzy/zdog',\n",
       " 'https://github.com/timzhang642/3D-Machine-Learning',\n",
       " 'https://github.com/isl-org/Open3D',\n",
       " 'https://github.com/blender/blender',\n",
       " 'https://github.com/a1studmuffin/SpaceshipGenerator',\n",
       " 'https://github.com/domlysz/BlenderGIS',\n",
       " 'https://github.com/FyroxEngine/Fyrox',\n",
       " 'https://github.com/google/model-viewer',\n",
       " 'https://github.com/openscad/openscad',\n",
       " 'https://github.com/spritejs/spritejs',\n",
       " 'https://github.com/nerfstudio-project/nerfstudio']"
      ]
     },
     "execution_count": 37,
     "metadata": {},
     "output_type": "execute_result"
    }
   ],
   "source": [
    "project_urls =[]\n",
    "for project_tags in project_url_details:\n",
    "   project_urls.append(git_base_url+project_tags.get(\"href\"))\n",
    "\n",
    "project_urls"
   ]
  },
  {
   "cell_type": "code",
   "execution_count": 26,
   "metadata": {},
   "outputs": [],
   "source": [
    "star_class = 'Counter js-social-count'\n",
    "star_details = soup.find_all('span',star_class)"
   ]
  },
  {
   "cell_type": "code",
   "execution_count": 30,
   "metadata": {},
   "outputs": [
    {
     "data": {
      "text/plain": [
       "'91688'"
      ]
     },
     "execution_count": 30,
     "metadata": {},
     "output_type": "execute_result"
    }
   ],
   "source": [
    "import re\n",
    "my_str= '91,688'\n",
    "re.sub(r'[^0-9]', '', my_str)"
   ]
  },
  {
   "cell_type": "code",
   "execution_count": 32,
   "metadata": {},
   "outputs": [
    {
     "data": {
      "text/plain": [
       "91887"
      ]
     },
     "execution_count": 32,
     "metadata": {},
     "output_type": "execute_result"
    }
   ],
   "source": [
    "int(re.sub(r'[^0-9]','',star_details[0].get(\"title\")))"
   ]
  },
  {
   "cell_type": "code",
   "execution_count": 34,
   "metadata": {},
   "outputs": [
    {
     "data": {
      "text/plain": [
       "<span aria-label=\"91887 users starred this repository\" class=\"Counter js-social-count\" data-plural-suffix=\"users starred this repository\" data-singular-suffix=\"user starred this repository\" data-turbo-replace=\"true\" data-view-component=\"true\" id=\"repo-stars-counter-star\" title=\"91,887\">91.9k</span>"
      ]
     },
     "execution_count": 34,
     "metadata": {},
     "output_type": "execute_result"
    }
   ],
   "source": [
    "star_details[0]"
   ]
  },
  {
   "cell_type": "code",
   "execution_count": 36,
   "metadata": {},
   "outputs": [
    {
     "data": {
      "text/plain": [
       "[91887,\n",
       " 22582,\n",
       " 21505,\n",
       " 20663,\n",
       " 16943,\n",
       " 15345,\n",
       " 15328,\n",
       " 14066,\n",
       " 10405,\n",
       " 9732,\n",
       " 8888,\n",
       " 8791,\n",
       " 8513,\n",
       " 7404,\n",
       " 6334,\n",
       " 6140,\n",
       " 5608,\n",
       " 5604,\n",
       " 5180,\n",
       " 5073]"
      ]
     },
     "execution_count": 36,
     "metadata": {},
     "output_type": "execute_result"
    }
   ],
   "source": [
    "stars =[]\n",
    "for i in star_details:\n",
    "   stars.append(int(re.sub(r'[^0-9]','',i.get(\"title\"))))\n",
    "\n",
    "stars"
   ]
  }
 ],
 "metadata": {
  "kernelspec": {
   "display_name": "Python 3",
   "language": "python",
   "name": "python3"
  },
  "language_info": {
   "codemirror_mode": {
    "name": "ipython",
    "version": 3
   },
   "file_extension": ".py",
   "mimetype": "text/x-python",
   "name": "python",
   "nbconvert_exporter": "python",
   "pygments_lexer": "ipython3",
   "version": "3.11.3"
  },
  "orig_nbformat": 4
 },
 "nbformat": 4,
 "nbformat_minor": 2
}
